{
 "cells": [
  {
   "cell_type": "code",
   "execution_count": 3,
   "metadata": {},
   "outputs": [],
   "source": [
    "import json\n",
    "import random\n",
    "from collections import Counter\n",
    "import boto3\n",
    "\n",
    "sqs = boto3.client('sqs')\n",
    "queue = sqs.get_queue_url(QueueName='Resize_Images')\n",
    "\n",
    "sample_rate = {\n",
    "        'scene': {\n",
    "            \"residential\": 1, \n",
    "            \"city street\": 0.25,\n",
    "            \"highway\": 0.5,\n",
    "            \"undefined\": 1\n",
    "        },\n",
    "        'timeofday': {\n",
    "            \"daytime\": 0.15,\n",
    "            \"night\": 0.2,\n",
    "            \"dawn/dusk\": 1,\n",
    "            \"undefined\": 1},\n",
    "        'weather': {\n",
    "            \"rainy\": 1,\n",
    "            \"snowy\": 1, \n",
    "            \"clear\": 0.15,\n",
    "            \"overcast\": 0.75,\n",
    "            \"partly cloudy\": 1,\n",
    "            \"undefined\": 0.75}\n",
    "        }"
   ]
  },
  {
   "cell_type": "code",
   "execution_count": 4,
   "metadata": {},
   "outputs": [
    {
     "name": "stdout",
     "output_type": "stream",
     "text": [
      "Counter({'clear': 37344, 'overcast': 8770, 'undefined': 8249, 'snowy': 5549, 'rainy': 5070, 'partly cloudy': 4881})\n",
      "Counter({'city street': 43516, 'highway': 17379, 'residential': 8074, 'undefined': 894})\n",
      "Counter({'daytime': 36728, 'night': 27971, 'dawn/dusk': 5027, 'undefined': 137})\n"
     ]
    }
   ],
   "source": [
    "weather_counter = Counter()\n",
    "scene_counter = Counter()\n",
    "timeofday_counter = Counter()\n",
    "\n",
    "with open('manifest-simplified-train.json') as f:\n",
    "    for line in f:\n",
    "        body = json.loads(line)\n",
    "        \n",
    "        label = body['weather-metadata']['class-name']\n",
    "        weather_counter.update([label])\n",
    "        \n",
    "        label = body['scene-metadata']['class-name']\n",
    "        scene_counter.update([label])\n",
    "        \n",
    "        label = body['timeofday-metadata']['class-name']\n",
    "        timeofday_counter.update([label])\n",
    "        \n",
    "print(weather_counter)\n",
    "print(scene_counter)\n",
    "print(timeofday_counter)"
   ]
  },
  {
   "cell_type": "code",
   "execution_count": 10,
   "metadata": {},
   "outputs": [],
   "source": [
    "random.seed(1)\n",
    "\n",
    "data = []\n",
    "\n",
    "weather_manifest = open('manifest-oversampled-weather-val.json', 'w')\n",
    "scene_manifest = open('manifest-oversampled-scene-val.json', 'w')\n",
    "timeofday_manifest = open('manifest-oversampled-timeofday-val.json', 'w')\n",
    "\n",
    "weather_counter = Counter()\n",
    "scene_counter = Counter()\n",
    "timeofday_counter = Counter()\n",
    "\n",
    "with open('manifest-simplified-val.json') as f:\n",
    "    for line in f:\n",
    "        body = json.loads(line)      \n",
    "        \n",
    "        path = body['source-ref']\n",
    "        new_path = path.replace('val', 'resized/val')\n",
    "        new_key = new_path.replace('s3://sagemaker-project-p-o3c1kiruwcnf/', '')\n",
    "        new_line = line.replace(path, new_path)\n",
    "        \n",
    "        payload = {\n",
    "          \"s3_url\": path,\n",
    "          \"height\": \"224\",\n",
    "          \"width\": \"224\",\n",
    "          \"save_path\": new_key\n",
    "        }\n",
    "\n",
    "        #response = sqs.send_message(QueueUrl=queue['QueueUrl'], MessageBody=json.dumps(payload))\n",
    "        \n",
    "        label = body['weather-metadata']['class-name']\n",
    "        if random.random() < sample_rate['weather'][label]:\n",
    "            weather_manifest.write(new_line)\n",
    "            weather_counter.update([label])\n",
    "        \n",
    "        label = body['scene-metadata']['class-name']\n",
    "        if random.random() < sample_rate['scene'][label]:\n",
    "            scene_manifest.write(new_line)\n",
    "            scene_counter.update([label])\n",
    "            \n",
    "        label = body['timeofday-metadata']['class-name']\n",
    "        if random.random() < sample_rate['timeofday'][label]:\n",
    "            timeofday_manifest.write(new_line)\n",
    "            timeofday_counter.update([label])\n",
    "        \n",
    "        \n",
    "weather_manifest.close()\n",
    "scene_manifest.close()\n",
    "timeofday_manifest.close()"
   ]
  },
  {
   "cell_type": "code",
   "execution_count": 9,
   "metadata": {},
   "outputs": [
    {
     "name": "stdout",
     "output_type": "stream",
     "text": [
      "Counter({'overcast': 6554, 'undefined': 6202, 'snowy': 5549, 'clear': 5518, 'rainy': 5070, 'partly cloudy': 4881})\n",
      "Counter({'city street': 10820, 'highway': 8620, 'residential': 8074, 'undefined': 894})\n",
      "Counter({'night': 5672, 'daytime': 5574, 'dawn/dusk': 5027, 'undefined': 137})\n"
     ]
    }
   ],
   "source": [
    "# Train\n",
    "print(weather_counter)\n",
    "print(scene_counter)\n",
    "print(timeofday_counter)"
   ]
  },
  {
   "cell_type": "code",
   "execution_count": 11,
   "metadata": {},
   "outputs": [
    {
     "name": "stdout",
     "output_type": "stream",
     "text": [
      "Counter({'overcast': 939, 'undefined': 891, 'snowy': 769, 'clear': 763, 'rainy': 738, 'partly cloudy': 738})\n",
      "Counter({'city street': 1511, 'residential': 1253, 'highway': 1228, 'undefined': 136})\n",
      "Counter({'daytime': 813, 'night': 792, 'dawn/dusk': 778, 'undefined': 35})\n"
     ]
    }
   ],
   "source": [
    "# Val\n",
    "print(weather_counter)\n",
    "print(scene_counter)\n",
    "print(timeofday_counter)"
   ]
  },
  {
   "cell_type": "code",
   "execution_count": null,
   "metadata": {},
   "outputs": [],
   "source": []
  }
 ],
 "metadata": {
  "kernelspec": {
   "display_name": "Python 3 (Data Science)",
   "language": "python",
   "name": "python3__SAGEMAKER_INTERNAL__arn:aws:sagemaker:us-east-1:081325390199:image/datascience-1.0"
  },
  "language_info": {
   "codemirror_mode": {
    "name": "ipython",
    "version": 3
   },
   "file_extension": ".py",
   "mimetype": "text/x-python",
   "name": "python",
   "nbconvert_exporter": "python",
   "pygments_lexer": "ipython3",
   "version": "3.7.10"
  }
 },
 "nbformat": 4,
 "nbformat_minor": 4
}
