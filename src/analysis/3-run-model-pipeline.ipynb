{
 "cells": [
  {
   "cell_type": "code",
   "execution_count": 1,
   "metadata": {},
   "outputs": [],
   "source": [
    "import boto3\n",
    "import time\n",
    "import json\n",
    "\n",
    "step_client = boto3.client('stepfunctions')\n",
    "\n",
    "trips = [\"91e8ab2b-cc91-419b-9b92-b81feb2ffc6a\"]"
   ]
  },
  {
   "cell_type": "code",
   "execution_count": 2,
   "metadata": {},
   "outputs": [],
   "source": [
    "def check_on_function(response):\n",
    "    time.sleep(10)\n",
    "    \n",
    "    while True:\n",
    "        time.sleep(2)\n",
    "\n",
    "        status_response = step_client.describe_execution(executionArn=response['executionArn'])\n",
    "\n",
    "        if status_response['status'] != 'RUNNING':\n",
    "            return(status_response['status'])"
   ]
  },
  {
   "cell_type": "markdown",
   "metadata": {},
   "source": [
    "# Start Endpoints"
   ]
  },
  {
   "cell_type": "code",
   "execution_count": 3,
   "metadata": {},
   "outputs": [
    {
     "data": {
      "text/plain": [
       "'SUCCEEDED'"
      ]
     },
     "execution_count": 3,
     "metadata": {},
     "output_type": "execute_result"
    }
   ],
   "source": [
    "# Start Endpoints\n",
    "response = step_client.start_execution(\n",
    "    stateMachineArn='arn:aws:states:us-east-1:821019163050:stateMachine:Startup-Models',\n",
    "    input='[]'\n",
    ")\n",
    "\n",
    "check_on_function(response)"
   ]
  },
  {
   "cell_type": "markdown",
   "metadata": {},
   "source": [
    "# Run Models"
   ]
  },
  {
   "cell_type": "code",
   "execution_count": 4,
   "metadata": {},
   "outputs": [
    {
     "data": {
      "text/plain": [
       "'SUCCEEDED'"
      ]
     },
     "execution_count": 4,
     "metadata": {},
     "output_type": "execute_result"
    }
   ],
   "source": [
    "payload = {\"trip_ids\": [{'trip_id': x} for x in trips]}\n",
    "\n",
    "response = step_client.start_execution(\n",
    "    stateMachineArn='arn:aws:states:us-east-1:821019163050:stateMachine:Trip-Summary-Stepfunction',\n",
    "    input=json.dumps(payload)\n",
    ")\n",
    "\n",
    "check_on_function(response)"
   ]
  },
  {
   "cell_type": "markdown",
   "metadata": {},
   "source": [
    "# Kill Endpoints"
   ]
  },
  {
   "cell_type": "code",
   "execution_count": 5,
   "metadata": {},
   "outputs": [
    {
     "data": {
      "text/plain": [
       "'SUCCEEDED'"
      ]
     },
     "execution_count": 5,
     "metadata": {},
     "output_type": "execute_result"
    }
   ],
   "source": [
    "response = step_client.start_execution(\n",
    "    stateMachineArn='arn:aws:states:us-east-1:821019163050:stateMachine:Delete-Model-Endpoints',\n",
    "    input='[]'\n",
    ")\n",
    "\n",
    "check_on_function(response)"
   ]
  },
  {
   "cell_type": "code",
   "execution_count": null,
   "metadata": {},
   "outputs": [],
   "source": []
  }
 ],
 "metadata": {
  "instance_type": "ml.t3.medium",
  "kernelspec": {
   "display_name": "Python 3 (Data Science)",
   "language": "python",
   "name": "python3__SAGEMAKER_INTERNAL__arn:aws:sagemaker:us-east-1:081325390199:image/datascience-1.0"
  },
  "language_info": {
   "codemirror_mode": {
    "name": "ipython",
    "version": 3
   },
   "file_extension": ".py",
   "mimetype": "text/x-python",
   "name": "python",
   "nbconvert_exporter": "python",
   "pygments_lexer": "ipython3",
   "version": "3.7.10"
  }
 },
 "nbformat": 4,
 "nbformat_minor": 4
}
